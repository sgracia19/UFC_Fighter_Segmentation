{
 "cells": [
  {
   "cell_type": "code",
   "execution_count": 1,
   "id": "066f1ce8",
   "metadata": {},
   "outputs": [],
   "source": [
    "import pandas as pd\n",
    "import os, sys\n",
    "sys.path.append('..')\n",
    "from src.processing import data_processor as dp, data_cleaner"
   ]
  },
  {
   "cell_type": "code",
   "execution_count": 2,
   "id": "f9c1e520",
   "metadata": {},
   "outputs": [
    {
     "name": "stderr",
     "output_type": "stream",
     "text": [
      "INFO:src.processing.data_processor:DataProcessor initialized with data path: ../data/raw/\n",
      "INFO:src.processing.data_processor:Data loaded successfully. 8250 events, 2598 fighters, 8250 fights.\n",
      "INFO:src.processing.pre_processor:Standardizing data types and values...\n",
      "INFO:src.processing.pre_processor:Calculating fight time corrections...\n",
      "INFO:src.processing.pre_processor:Excluded 146 fights with non-binary outcomes (draws/no contests/etc.)\n",
      "INFO:src.processing.pre_processor:Performing data validation...\n",
      "INFO:src.processing.pre_processor:Pre-processing complete. Shape: (8250, 86) -> (8104, 90)\n",
      "INFO:src.processing.metric_calculator:Addingn complementary fight metrics...\n",
      "INFO:src.processing.data_processor:Preparing fight-level data from preprocessed inputs...\n",
      "INFO:src.processing.data_processor:✓ Prepared fighter-level data: 16208 records, 64 columns\n",
      "INFO:src.processing.data_processor:Aggregating fighter statistics...\n",
      "INFO:src.processing.data_processor:Aggregated data for 2591 fighters\n",
      "INFO:src.processing.metric_calculator:Calculating derived metrics...\n",
      "INFO:src.processing.metric_calculator:Added 49 new fight metric columns\n",
      "INFO:src.processing.data_processor:✓ Data validation passed: wins + losses = total fights\n",
      "INFO:src.processing.data_processor:Processing complete! Final dataset shape: (2591, 118)\n"
     ]
    }
   ],
   "source": [
    "processor = dp.UFCDataProcessor('../data/raw/')\n",
    "df = processor.process_data()\n",
    "data_cleaner = data_cleaner.DataCleaner()"
   ]
  },
  {
   "cell_type": "code",
   "execution_count": 3,
   "id": "f61bebbd",
   "metadata": {},
   "outputs": [
    {
     "name": "stderr",
     "output_type": "stream",
     "text": [
      "INFO:src.processing.data_cleaner:Starting data cleaning process.\n",
      "INFO:src.processing.data_cleaner:Handling missing values...\n",
      "INFO:src.processing.data_cleaner:Adding relative height and reach metrics...\n",
      "INFO:src.processing.data_cleaner:Data cleaning process completed: dropped 1136 fighters\n"
     ]
    }
   ],
   "source": [
    "df_cleaned = data_cleaner.clean_data(df)"
   ]
  },
  {
   "cell_type": "code",
   "execution_count": 4,
   "id": "39d8922d",
   "metadata": {},
   "outputs": [
    {
     "data": {
      "text/plain": [
       "3      2017-03-11\n",
       "6      2020-07-11\n",
       "7      2022-10-22\n",
       "9      2013-04-13\n",
       "10     2013-05-18\n",
       "          ...    \n",
       "2584   2025-02-15\n",
       "2585   2014-02-15\n",
       "2586   2008-07-05\n",
       "2587   2011-12-03\n",
       "2590   2021-10-23\n",
       "Name: last_fight, Length: 1455, dtype: datetime64[ns]"
      ]
     },
     "execution_count": 4,
     "metadata": {},
     "output_type": "execute_result"
    }
   ],
   "source": [
    "df_cleaned.last_fight"
   ]
  },
  {
   "cell_type": "code",
   "execution_count": 8,
   "id": "eb1bc1f7",
   "metadata": {},
   "outputs": [
    {
     "data": {
      "image/png": "[encoded data removed]",
      "text/plain": [
       "<Figure size 640x480 with 1 Axes>"
      ]
     },
     "metadata": {},
     "output_type": "display_data"
    }
   ],
   "source": [
    "df_cleaned.last_fight.hist();"
   ]
  },
  {
   "cell_type": "code",
   "execution_count": 5,
   "id": "50458e62",
   "metadata": {},
   "outputs": [],
   "source": [
    "import seaborn as sns"
   ]
  },
  {
   "cell_type": "code",
   "execution_count": 1,
   "id": "83bc047e",
   "metadata": {},
   "outputs": [
    {
     "ename": "NameError",
     "evalue": "name 'sns' is not defined",
     "output_type": "error",
     "traceback": [
      "\u001b[31m---------------------------------------------------------------------------\u001b[39m",
      "\u001b[31mNameError\u001b[39m                                 Traceback (most recent call last)",
      "\u001b[36mCell\u001b[39m\u001b[36m \u001b[39m\u001b[32mIn[1]\u001b[39m\u001b[32m, line 1\u001b[39m\n\u001b[32m----> \u001b[39m\u001b[32m1\u001b[39m \u001b[43msns\u001b[49m.heatmap(df_cleaned.select_dtypes(include=\u001b[33m'\u001b[39m\u001b[33mnumber\u001b[39m\u001b[33m'\u001b[39m).corr(), annot=\u001b[38;5;28;01mFalse\u001b[39;00m);\n",
      "\u001b[31mNameError\u001b[39m: name 'sns' is not defined"
     ]
    }
   ],
   "source": [
    "sns.heatmap(df_cleaned.select_dtypes(include='number').corr(), annot=False);"
   ]
  },
  {
   "cell_type": "code",
   "execution_count": null,
   "id": "ae149412",
   "metadata": {},
   "outputs": [],
   "source": []
  }
 ],
 "metadata": {
  "kernelspec": {
   "display_name": "venv",
   "language": "python",
   "name": "python3"
  },
  "language_info": {
   "codemirror_mode": {
    "name": "ipython",
    "version": 3
   },
   "file_extension": ".py",
   "mimetype": "text/x-python",
   "name": "python",
   "nbconvert_exporter": "python",
   "pygments_lexer": "ipython3",
   "version": "3.13.5"
  }
 },
 "nbformat": 4,
 "nbformat_minor": 5
}
