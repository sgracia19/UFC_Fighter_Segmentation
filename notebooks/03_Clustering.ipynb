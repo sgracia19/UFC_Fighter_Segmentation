{
 "cells": [
  {
   "cell_type": "code",
   "execution_count": 1,
   "id": "066f1ce8",
   "metadata": {},
   "outputs": [],
   "source": [
    "import sys\n",
    "sys.path.append('..')\n",
    "\n",
    "import pandas as pd\n",
    "import numpy as np\n",
    "import seaborn as sns\n",
    "import matplotlib.pyplot as plt\n",
    "\n",
    "import src.data_pipeline"
   ]
  },
  {
   "cell_type": "code",
   "execution_count": 16,
   "id": "ae149412",
   "metadata": {},
   "outputs": [
    {
     "name": "stderr",
     "output_type": "stream",
     "text": [
      "INFO:src.data_pipeline:Processing UFC fighter data...\n",
      "INFO:src.data_pipeline:Using raw data: raw\n",
      "INFO:src.data_pipeline:Using processed data: processed\n",
      "INFO:src.data_pipeline:Loading existing processed data...\n",
      "INFO:src.data_pipeline:Loaded 1455 fighters from cache\n"
     ]
    }
   ],
   "source": [
    "_, fighter_df = src.data_pipeline.load_and_process_ufc_data()"
   ]
  },
  {
   "cell_type": "code",
   "execution_count": 2,
   "id": "7c167171",
   "metadata": {},
   "outputs": [
    {
     "name": "stderr",
     "output_type": "stream",
     "text": [
      "INFO:src.data_pipeline:Cleared cached data - reprocessing...\n",
      "INFO:src.data_pipeline:Processing UFC fighter data...\n",
      "INFO:src.data_pipeline:Using raw data: raw\n",
      "INFO:src.data_pipeline:Using processed data: processed\n",
      "INFO:src.data_pipeline:Processing raw data...\n",
      "INFO:src.processing.data_processor:Data loaded successfully. 8250 events, 2598 fighters, 8250 fights.\n",
      "INFO:src.processing.pre_processor:Standardizing data types and values...\n",
      "INFO:src.processing.pre_processor:Calculating fight time corrections...\n",
      "INFO:src.processing.pre_processor:Excluded 146 fights with non-binary outcomes (draws/no contests/etc.)\n",
      "INFO:src.processing.pre_processor:Performing data validation...\n",
      "INFO:src.processing.pre_processor:Pre-processing complete. Shape: (8250, 86) -> (8104, 90)\n",
      "INFO:src.processing.metric_calculator:Adding complementary fight metrics...\n",
      "INFO:src.processing.data_processor:Preparing fight-level data from preprocessed inputs...\n",
      "INFO:src.processing.data_processor:✓ Prepared fighter-level data: 16208 records, 64 columns\n",
      "INFO:src.processing.data_processor:Aggregating fighter statistics...\n",
      "INFO:src.processing.data_processor:Aggregated data for 2591 fighters\n",
      "INFO:src.processing.metric_calculator:Calculating derived metrics...\n",
      "INFO:src.processing.metric_calculator:Added 49 new fight metric columns\n",
      "INFO:src.processing.data_processor:✓ Data validation passed: wins + losses = total fights\n",
      "INFO:src.processing.data_processor:Processing complete! Final dataset shape: (2591, 118)\n",
      "INFO:src.data_pipeline:Cleaning data...\n",
      "INFO:src.processing.data_cleaner:Starting data cleaning process.\n",
      "INFO:src.processing.data_cleaner:Handling missing values...\n",
      "INFO:src.processing.data_cleaner:Adding relative height and reach metrics...\n",
      "INFO:src.processing.data_cleaner:Data cleaning process completed: dropped 1136 fighters\n",
      "INFO:src.data_pipeline:Processing complete! 1455 fighters ready for analysis\n"
     ]
    }
   ],
   "source": [
    "fighter_df = src.data_pipeline.force_reprocess()"
   ]
  },
  {
   "cell_type": "code",
   "execution_count": null,
   "id": "ce71f59b",
   "metadata": {},
   "outputs": [],
   "source": []
  }
 ],
 "metadata": {
  "kernelspec": {
   "display_name": "venv",
   "language": "python",
   "name": "python3"
  },
  "language_info": {
   "codemirror_mode": {
    "name": "ipython",
    "version": 3
   },
   "file_extension": ".py",
   "mimetype": "text/x-python",
   "name": "python",
   "nbconvert_exporter": "python",
   "pygments_lexer": "ipython3",
   "version": "3.13.5"
  }
 },
 "nbformat": 4,
 "nbformat_minor": 5
}
