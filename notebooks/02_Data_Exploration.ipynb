{
 "cells": [
  {
   "cell_type": "markdown",
   "id": "1f06ba6d",
   "metadata": {},
   "source": [
    "### EDA\n",
    "Notebook to explore data set, filter for clustering, and visualizations to aid in clustering"
   ]
  },
  {
   "cell_type": "code",
   "execution_count": 6,
   "id": "3c724819",
   "metadata": {},
   "outputs": [],
   "source": [
    "import sys\n",
    "import os\n",
    "sys.path.append(os.path.abspath('..'))"
   ]
  },
  {
   "cell_type": "code",
   "execution_count": 7,
   "id": "94a72f86",
   "metadata": {},
   "outputs": [],
   "source": [
    "import src.processing.data_processor as dp"
   ]
  },
  {
   "cell_type": "code",
   "execution_count": 11,
   "id": "2a5620f4",
   "metadata": {},
   "outputs": [
    {
     "name": "stderr",
     "output_type": "stream",
     "text": [
      "INFO:src.processing.data_processor:DataProcessor initialized with data path: ../data/raw/\n",
      "INFO:src.processing.data_processor:Starting full data processing pipeline...\n",
      "INFO:src.processing.data_processor:Data loaded successfully. 8250 events, 2598 fighters, 8250 fights.\n",
      "INFO:src.processing.data_processor:Preparing fight-level data...\n",
      "INFO:src.processing.data_processor:Prepared fighter-level data with 16500 records.\n",
      "INFO:src.processing.data_processor:Aggregating fighter statistics...\n",
      "INFO:src.processing.data_processor:Aggregated data for 2598 fighters\n",
      "INFO:src.processing.data_processor:Calculating derived metrics...\n",
      "INFO:src.processing.data_processor:Merging fighter details...\n",
      "INFO:src.processing.data_processor:Processing complete! Final dataset shape: (2598, 77)\n"
     ]
    }
   ],
   "source": [
    "processor = dp.UFCDataProcessor('../data/raw/')\n",
    "df = processor.process_data()"
   ]
  },
  {
   "cell_type": "code",
   "execution_count": 13,
   "id": "51695760",
   "metadata": {},
   "outputs": [
    {
     "data": {
      "text/plain": [
       "Index(['id', 'total_UFC_fights', 'UFC_wins', 'UFC_losses', 'match_time_sec',\n",
       "       'total_rounds', 'kd', 'sig_stlanded', 'sig_statmpted', 'total_stlanded',\n",
       "       'total_statmpted', 'td_landed', 'td_atmpted', 'ctrl', 'head_landed',\n",
       "       'head_atmpted', 'body_landed', 'body_atmpted', 'leg_landed',\n",
       "       'leg_atmpted', 'dist_landed', 'dist_atmpted', 'clinch_landed',\n",
       "       'clinch_atmpted', 'ground_landed', 'ground_atmpted', 'suatt', 'name',\n",
       "       'division', 'wins_by_decision', 'wins_by_ko_tko', 'wins_by_other',\n",
       "       'wins_by_submission', 'losses_by_decision', 'losses_by_ko_tko',\n",
       "       'losses_by_other', 'losses_by_submission', 'career_sig_st_acc',\n",
       "       'career_total_st_acc', 'career_td_acc', 'career_head_acc',\n",
       "       'career_body_acc', 'career_leg_acc', 'career_dist_acc',\n",
       "       'career_clinch_acc', 'career_ground_acc', 'sig_st_landed_per_min',\n",
       "       'td_landed_per_min', 'kd_per_min', 'avg_fight_time_sec',\n",
       "       'win_percentage', 'finish_rate', 'ko_tko_rate', 'submission_rate',\n",
       "       'decision_rate', 'ko_tko_vulnerability', 'submission_vulnerability',\n",
       "       'head_strike_percentage', 'body_strike_percentage',\n",
       "       'leg_strike_percentage', 'nick_name', 'wins', 'losses', 'draws',\n",
       "       'height', 'weight', 'reach', 'stance', 'dob', 'splm', 'str_acc', 'sapm',\n",
       "       'str_def', 'td_avg', 'td_avg_acc', 'td_def', 'sub_avg'],\n",
       "      dtype='object')"
      ]
     },
     "execution_count": 13,
     "metadata": {},
     "output_type": "execute_result"
    }
   ],
   "source": [
    "df.columns"
   ]
  },
  {
   "cell_type": "code",
   "execution_count": null,
   "id": "be66acfd",
   "metadata": {},
   "outputs": [],
   "source": []
  }
 ],
 "metadata": {
  "kernelspec": {
   "display_name": "venv",
   "language": "python",
   "name": "python3"
  },
  "language_info": {
   "codemirror_mode": {
    "name": "ipython",
    "version": 3
   },
   "file_extension": ".py",
   "mimetype": "text/x-python",
   "name": "python",
   "nbconvert_exporter": "python",
   "pygments_lexer": "ipython3",
   "version": "3.13.5"
  }
 },
 "nbformat": 4,
 "nbformat_minor": 5
}
